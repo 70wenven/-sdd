{
 "cells": [
  {
   "cell_type": "code",
   "execution_count": 9,
   "metadata": {},
   "outputs": [],
   "source": [
    "import pandas as pd\n",
    "import matplotlib.pyplot as plt\n",
    "import numpy as np\n",
    "import datetime as dt"
   ]
  },
  {
   "cell_type": "code",
   "execution_count": 10,
   "metadata": {},
   "outputs": [],
   "source": [
    "FinalGEO=pd.read_csv('/Users/wenvennn/Desktop/Final_GEOdataSci/accident_sample_bkk-main/incident.csv')"
   ]
  },
  {
   "cell_type": "code",
   "execution_count": 11,
   "metadata": {},
   "outputs": [
    {
     "data": {
      "text/html": [
       "<div>\n",
       "<style scoped>\n",
       "    .dataframe tbody tr th:only-of-type {\n",
       "        vertical-align: middle;\n",
       "    }\n",
       "\n",
       "    .dataframe tbody tr th {\n",
       "        vertical-align: top;\n",
       "    }\n",
       "\n",
       "    .dataframe thead th {\n",
       "        text-align: right;\n",
       "    }\n",
       "</style>\n",
       "<table border=\"1\" class=\"dataframe\">\n",
       "  <thead>\n",
       "    <tr style=\"text-align: right;\">\n",
       "      <th></th>\n",
       "      <th>eid</th>\n",
       "      <th>title</th>\n",
       "      <th>title_en</th>\n",
       "      <th>description</th>\n",
       "      <th>description_en</th>\n",
       "      <th>latitude</th>\n",
       "      <th>longitude</th>\n",
       "      <th>type</th>\n",
       "      <th>start</th>\n",
       "      <th>stop</th>\n",
       "      <th>contributor</th>\n",
       "    </tr>\n",
       "  </thead>\n",
       "  <tbody>\n",
       "    <tr>\n",
       "      <th>5</th>\n",
       "      <td>548254</td>\n",
       "      <td>อุบัติเหตุ ถนนราชพฤกษ์ ขาออก</td>\n",
       "      <td>Accident at Ratchaphruek Rd.</td>\n",
       "      <td>อุบัติเหตุ ถนนราชพฤกษ์ ขาออก ช่องคู่ขนาน เลยโร...</td>\n",
       "      <td>Car accident blocking two right lanes, 300 m. ...</td>\n",
       "      <td>13.851971</td>\n",
       "      <td>100.448693</td>\n",
       "      <td>3</td>\n",
       "      <td>2019-01-01 03:23:52</td>\n",
       "      <td>2019-01-01 04:23:52</td>\n",
       "      <td>itic.nirat</td>\n",
       "    </tr>\n",
       "    <tr>\n",
       "      <th>6</th>\n",
       "      <td>548255</td>\n",
       "      <td>อุบัติเหตุ ถนนโพธิ์แก้ว</td>\n",
       "      <td>Accident at Pho Kaeo Rd.</td>\n",
       "      <td>อุบัติเหตุ ภายในซอยโพธิ์แก้ว มุ่งหน้า ถนนนวมิน...</td>\n",
       "      <td>Motorcycle accident blocking the middle lane, ...</td>\n",
       "      <td>13.797566</td>\n",
       "      <td>100.628623</td>\n",
       "      <td>3</td>\n",
       "      <td>2019-01-01 03:28:39</td>\n",
       "      <td>2019-01-01 04:28:39</td>\n",
       "      <td>itic.nirat</td>\n",
       "    </tr>\n",
       "    <tr>\n",
       "      <th>7</th>\n",
       "      <td>548256</td>\n",
       "      <td>อุบัติเหตุ ถนนแจ้งวัฒนะ ขาออก</td>\n",
       "      <td>Accident at Chaeng Watthana Rd.</td>\n",
       "      <td>03.22 น. อุบัติเหตุ ถนนแจ้งวัฒนะ ขาออก ช่วงแยก...</td>\n",
       "      <td>Cars accident blocking the middle lane at Lak ...</td>\n",
       "      <td>13.883635</td>\n",
       "      <td>100.582601</td>\n",
       "      <td>3</td>\n",
       "      <td>2019-01-01 03:33:10</td>\n",
       "      <td>2019-01-01 04:33:10</td>\n",
       "      <td>itic.nirat</td>\n",
       "    </tr>\n",
       "    <tr>\n",
       "      <th>8</th>\n",
       "      <td>548257</td>\n",
       "      <td>อุบัติเหตุ ถนนกัลปพฤกษ์</td>\n",
       "      <td>Accident at Kallapraphruk Rd.</td>\n",
       "      <td>ถนนกัลปพฤกษ์ ช่วงแยกสุขาภิบาล1  ไป ถ.กาญจนาภิเ...</td>\n",
       "      <td>Motorcycle accident blocking the left lane, 50...</td>\n",
       "      <td>13.683004</td>\n",
       "      <td>100.414645</td>\n",
       "      <td>3</td>\n",
       "      <td>2019-01-01 03:37:31</td>\n",
       "      <td>2019-01-01 04:37:31</td>\n",
       "      <td>itic.nirat</td>\n",
       "    </tr>\n",
       "    <tr>\n",
       "      <th>9</th>\n",
       "      <td>548258</td>\n",
       "      <td>อุบัติเหตุ ซอยวัดสวนส้ม</td>\n",
       "      <td>Accident at Soi Wat Suan Som</td>\n",
       "      <td>03:36 ซอยวัดสวนส้ม ที่เข้าจากถนนปู่เจ้าสมิงพรา...</td>\n",
       "      <td>Motorcycles accident blocking traffic lane in ...</td>\n",
       "      <td>13.645022</td>\n",
       "      <td>100.579181</td>\n",
       "      <td>3</td>\n",
       "      <td>2019-01-01 03:41:55</td>\n",
       "      <td>2019-01-01 04:41:55</td>\n",
       "      <td>itic.nirat</td>\n",
       "    </tr>\n",
       "    <tr>\n",
       "      <th>...</th>\n",
       "      <td>...</td>\n",
       "      <td>...</td>\n",
       "      <td>...</td>\n",
       "      <td>...</td>\n",
       "      <td>...</td>\n",
       "      <td>...</td>\n",
       "      <td>...</td>\n",
       "      <td>...</td>\n",
       "      <td>...</td>\n",
       "      <td>...</td>\n",
       "      <td>...</td>\n",
       "    </tr>\n",
       "    <tr>\n",
       "      <th>96189</th>\n",
       "      <td>645515</td>\n",
       "      <td>อุบัติเหตุ ถนนกาญจนาภิเษก</td>\n",
       "      <td>Accident at Kanchana Phisek Rd.</td>\n",
       "      <td>ถนนกาญจนาภิเษก มีอุบัติเหตุรถชนกัน ที่ใต้ MRT ...</td>\n",
       "      <td>Cars accident blocking traffic lane under Klon...</td>\n",
       "      <td>13.892287</td>\n",
       "      <td>100.408317</td>\n",
       "      <td>3</td>\n",
       "      <td>2019-12-31 20:08:55</td>\n",
       "      <td>2019-12-31 21:08:55</td>\n",
       "      <td>itic.rattanakit</td>\n",
       "    </tr>\n",
       "    <tr>\n",
       "      <th>96190</th>\n",
       "      <td>645516</td>\n",
       "      <td>รถเสีย ถนนสุขุมวิท ขาเข้า</td>\n",
       "      <td>Car breakdown at Sukhumvit Rd.</td>\n",
       "      <td>ถนนสุขุมวิท ปากซอยสุขุมวิท 26 มีรถจอดเสีย ขวาง...</td>\n",
       "      <td>Car breakdown blocking traffic lane at the ent...</td>\n",
       "      <td>13.729424</td>\n",
       "      <td>100.571032</td>\n",
       "      <td>1</td>\n",
       "      <td>2019-12-31 21:06:27</td>\n",
       "      <td>2019-12-31 22:06:27</td>\n",
       "      <td>itic.pacharasrung</td>\n",
       "    </tr>\n",
       "    <tr>\n",
       "      <th>96191</th>\n",
       "      <td>645517</td>\n",
       "      <td>อุบัติเหตุ ถนนกรุงเกษม</td>\n",
       "      <td>Accident at Krungkasem Rd.</td>\n",
       "      <td>ถนนกรุงเกษม ที่บริเวณแยกกษัตริย์ศึก มีรถชนกัน ...</td>\n",
       "      <td>Cars accident blocking traffic lane at Kasat S...</td>\n",
       "      <td>13.749151</td>\n",
       "      <td>100.516730</td>\n",
       "      <td>3</td>\n",
       "      <td>2019-12-31 21:54:15</td>\n",
       "      <td>2019-12-31 22:54:15</td>\n",
       "      <td>itic.pacharasrung</td>\n",
       "    </tr>\n",
       "    <tr>\n",
       "      <th>96192</th>\n",
       "      <td>645518</td>\n",
       "      <td>รถเสีย ถนนสุขสวัสดิ์</td>\n",
       "      <td>Car breakdown at Suk Sawat Rd.</td>\n",
       "      <td>ถนนสุขสวัสดิ์ ที่หน้าตลาดอินดี้ดาวคะนอง มีรถจอ...</td>\n",
       "      <td>Car breakdown blocking the left lane in front ...</td>\n",
       "      <td>13.690930</td>\n",
       "      <td>100.481168</td>\n",
       "      <td>1</td>\n",
       "      <td>2019-12-31 22:15:14</td>\n",
       "      <td>2019-12-31 23:15:14</td>\n",
       "      <td>itic.pacharasrung</td>\n",
       "    </tr>\n",
       "    <tr>\n",
       "      <th>96193</th>\n",
       "      <td>645519</td>\n",
       "      <td>รถเสีย ถนนนครอินทร์ ขาเข้า</td>\n",
       "      <td>Car breakdown at Nakhon In Rd.</td>\n",
       "      <td>ถนนนครอินทร์ ที่หน้าหมู่บ้านเพอร์เฟคเพลส  มีรถ...</td>\n",
       "      <td>Car breakdown blocking traffic lane in front o...</td>\n",
       "      <td>13.824701</td>\n",
       "      <td>100.452644</td>\n",
       "      <td>1</td>\n",
       "      <td>2019-12-31 22:22:24</td>\n",
       "      <td>2019-12-31 23:22:24</td>\n",
       "      <td>itic.pacharasrung</td>\n",
       "    </tr>\n",
       "  </tbody>\n",
       "</table>\n",
       "<p>43512 rows × 11 columns</p>\n",
       "</div>"
      ],
      "text/plain": [
       "          eid                          title                         title_en  \\\n",
       "5      548254   อุบัติเหตุ ถนนราชพฤกษ์ ขาออก     Accident at Ratchaphruek Rd.   \n",
       "6      548255        อุบัติเหตุ ถนนโพธิ์แก้ว         Accident at Pho Kaeo Rd.   \n",
       "7      548256  อุบัติเหตุ ถนนแจ้งวัฒนะ ขาออก  Accident at Chaeng Watthana Rd.   \n",
       "8      548257        อุบัติเหตุ ถนนกัลปพฤกษ์    Accident at Kallapraphruk Rd.   \n",
       "9      548258        อุบัติเหตุ ซอยวัดสวนส้ม     Accident at Soi Wat Suan Som   \n",
       "...       ...                            ...                              ...   \n",
       "96189  645515      อุบัติเหตุ ถนนกาญจนาภิเษก  Accident at Kanchana Phisek Rd.   \n",
       "96190  645516      รถเสีย ถนนสุขุมวิท ขาเข้า   Car breakdown at Sukhumvit Rd.   \n",
       "96191  645517         อุบัติเหตุ ถนนกรุงเกษม       Accident at Krungkasem Rd.   \n",
       "96192  645518           รถเสีย ถนนสุขสวัสดิ์   Car breakdown at Suk Sawat Rd.   \n",
       "96193  645519     รถเสีย ถนนนครอินทร์ ขาเข้า   Car breakdown at Nakhon In Rd.   \n",
       "\n",
       "                                             description  \\\n",
       "5      อุบัติเหตุ ถนนราชพฤกษ์ ขาออก ช่องคู่ขนาน เลยโร...   \n",
       "6      อุบัติเหตุ ภายในซอยโพธิ์แก้ว มุ่งหน้า ถนนนวมิน...   \n",
       "7      03.22 น. อุบัติเหตุ ถนนแจ้งวัฒนะ ขาออก ช่วงแยก...   \n",
       "8      ถนนกัลปพฤกษ์ ช่วงแยกสุขาภิบาล1  ไป ถ.กาญจนาภิเ...   \n",
       "9      03:36 ซอยวัดสวนส้ม ที่เข้าจากถนนปู่เจ้าสมิงพรา...   \n",
       "...                                                  ...   \n",
       "96189  ถนนกาญจนาภิเษก มีอุบัติเหตุรถชนกัน ที่ใต้ MRT ...   \n",
       "96190  ถนนสุขุมวิท ปากซอยสุขุมวิท 26 มีรถจอดเสีย ขวาง...   \n",
       "96191  ถนนกรุงเกษม ที่บริเวณแยกกษัตริย์ศึก มีรถชนกัน ...   \n",
       "96192  ถนนสุขสวัสดิ์ ที่หน้าตลาดอินดี้ดาวคะนอง มีรถจอ...   \n",
       "96193  ถนนนครอินทร์ ที่หน้าหมู่บ้านเพอร์เฟคเพลส  มีรถ...   \n",
       "\n",
       "                                          description_en   latitude  \\\n",
       "5      Car accident blocking two right lanes, 300 m. ...  13.851971   \n",
       "6      Motorcycle accident blocking the middle lane, ...  13.797566   \n",
       "7      Cars accident blocking the middle lane at Lak ...  13.883635   \n",
       "8      Motorcycle accident blocking the left lane, 50...  13.683004   \n",
       "9      Motorcycles accident blocking traffic lane in ...  13.645022   \n",
       "...                                                  ...        ...   \n",
       "96189  Cars accident blocking traffic lane under Klon...  13.892287   \n",
       "96190  Car breakdown blocking traffic lane at the ent...  13.729424   \n",
       "96191  Cars accident blocking traffic lane at Kasat S...  13.749151   \n",
       "96192  Car breakdown blocking the left lane in front ...  13.690930   \n",
       "96193  Car breakdown blocking traffic lane in front o...  13.824701   \n",
       "\n",
       "        longitude  type                start                 stop  \\\n",
       "5      100.448693     3  2019-01-01 03:23:52  2019-01-01 04:23:52   \n",
       "6      100.628623     3  2019-01-01 03:28:39  2019-01-01 04:28:39   \n",
       "7      100.582601     3  2019-01-01 03:33:10  2019-01-01 04:33:10   \n",
       "8      100.414645     3  2019-01-01 03:37:31  2019-01-01 04:37:31   \n",
       "9      100.579181     3  2019-01-01 03:41:55  2019-01-01 04:41:55   \n",
       "...           ...   ...                  ...                  ...   \n",
       "96189  100.408317     3  2019-12-31 20:08:55  2019-12-31 21:08:55   \n",
       "96190  100.571032     1  2019-12-31 21:06:27  2019-12-31 22:06:27   \n",
       "96191  100.516730     3  2019-12-31 21:54:15  2019-12-31 22:54:15   \n",
       "96192  100.481168     1  2019-12-31 22:15:14  2019-12-31 23:15:14   \n",
       "96193  100.452644     1  2019-12-31 22:22:24  2019-12-31 23:22:24   \n",
       "\n",
       "             contributor  \n",
       "5             itic.nirat  \n",
       "6             itic.nirat  \n",
       "7             itic.nirat  \n",
       "8             itic.nirat  \n",
       "9             itic.nirat  \n",
       "...                  ...  \n",
       "96189    itic.rattanakit  \n",
       "96190  itic.pacharasrung  \n",
       "96191  itic.pacharasrung  \n",
       "96192  itic.pacharasrung  \n",
       "96193  itic.pacharasrung  \n",
       "\n",
       "[43512 rows x 11 columns]"
      ]
     },
     "execution_count": 11,
     "metadata": {},
     "output_type": "execute_result"
    }
   ],
   "source": [
    "FinalGEO"
   ]
  },
  {
   "cell_type": "code",
   "execution_count": 13,
   "metadata": {},
   "outputs": [
    {
     "data": {
      "text/plain": [
       "eid                 int64\n",
       "title              object\n",
       "title_en           object\n",
       "description        object\n",
       "description_en     object\n",
       "latitude          float64\n",
       "longitude         float64\n",
       "type                int64\n",
       "start              object\n",
       "stop               object\n",
       "contributor        object\n",
       "dtype: object"
      ]
     },
     "execution_count": 13,
     "metadata": {},
     "output_type": "execute_result"
    }
   ],
   "source": [
    "FinalGEO.dtypes"
   ]
  },
  {
   "cell_type": "code",
   "execution_count": 14,
   "metadata": {},
   "outputs": [
    {
     "data": {
      "image/png": "[encoded data removed]",
      "text/plain": [
       "<Figure size 432x288 with 1 Axes>"
      ]
     },
     "metadata": {
      "needs_background": "light"
     },
     "output_type": "display_data"
    }
   ],
   "source": [
    "plt.scatter(FinalGEO['latitude'],FinalGEO['longitude'],cmap='viridis')\n",
    "plt.show()"
   ]
  },
  {
   "cell_type": "code",
   "execution_count": 15,
   "metadata": {},
   "outputs": [],
   "source": [
    "from sklearn.cluster import KMeans"
   ]
  },
  {
   "cell_type": "code",
   "execution_count": 21,
   "metadata": {},
   "outputs": [],
   "source": [
    "n_clusters=9"
   ]
  },
  {
   "cell_type": "code",
   "execution_count": 22,
   "metadata": {},
   "outputs": [
    {
     "data": {
      "text/plain": [
       "array([[ 13.85197117, 100.44869274],\n",
       "       [ 13.7975656 , 100.62862337],\n",
       "       [ 13.88363483, 100.58260068],\n",
       "       ...,\n",
       "       [ 13.74915145, 100.51672965],\n",
       "       [ 13.69093024, 100.48116758],\n",
       "       [ 13.82470096, 100.45264363]])"
      ]
     },
     "execution_count": 22,
     "metadata": {},
     "output_type": "execute_result"
    }
   ],
   "source": [
    "KPoint = np.array(FinalGEO[['latitude','longitude']].values.tolist())\n",
    "KPoint"
   ]
  },
  {
   "cell_type": "code",
   "execution_count": 24,
   "metadata": {},
   "outputs": [
    {
     "data": {
      "text/plain": [
       "KMeans(n_clusters=9)"
      ]
     },
     "execution_count": 24,
     "metadata": {},
     "output_type": "execute_result"
    }
   ],
   "source": [
    "kmeans = KMeans(n_clusters=n_clusters)\n",
    "kmeans.fit(KPoint)"
   ]
  },
  {
   "cell_type": "code",
   "execution_count": 25,
   "metadata": {},
   "outputs": [],
   "source": [
    "cluster_labels = kmeans.labels_\n",
    "SS = kmeans.inertia_ "
   ]
  },
  {
   "cell_type": "code",
   "execution_count": 26,
   "metadata": {},
   "outputs": [
    {
     "data": {
      "text/plain": [
       "125.39542286983409"
      ]
     },
     "execution_count": 26,
     "metadata": {},
     "output_type": "execute_result"
    }
   ],
   "source": [
    "SS"
   ]
  },
  {
   "cell_type": "code",
   "execution_count": 27,
   "metadata": {},
   "outputs": [
    {
     "data": {
      "image/png": "[encoded data removed]",
      "text/plain": [
       "<Figure size 432x288 with 1 Axes>"
      ]
     },
     "metadata": {
      "needs_background": "light"
     },
     "output_type": "display_data"
    }
   ],
   "source": [
    "plt.scatter(FinalGEO['latitude'],FinalGEO['longitude'], c=cluster_labels)\n",
    "plt.show()"
   ]
  },
  {
   "cell_type": "code",
   "execution_count": 28,
   "metadata": {},
   "outputs": [],
   "source": [
    "from sklearn.metrics import silhouette_samples, silhouette_score"
   ]
  },
  {
   "cell_type": "code",
   "execution_count": 31,
   "metadata": {},
   "outputs": [
    {
     "data": {
      "text/plain": [
       "0.3663392458307937"
      ]
     },
     "execution_count": 31,
     "metadata": {},
     "output_type": "execute_result"
    }
   ],
   "source": [
    "silhouette_score(KPoint, cluster_labels)"
   ]
  },
  {
   "cell_type": "code",
   "execution_count": null,
   "metadata": {},
   "outputs": [],
   "source": []
  }
 ],
 "metadata": {
  "kernelspec": {
   "display_name": "Python 3",
   "language": "python",
   "name": "python3"
  },
  "language_info": {
   "codemirror_mode": {
    "name": "ipython",
    "version": 3
   },
   "file_extension": ".py",
   "mimetype": "text/x-python",
   "name": "python",
   "nbconvert_exporter": "python",
   "pygments_lexer": "ipython3",
   "version": "3.8.3"
  }
 },
 "nbformat": 4,
 "nbformat_minor": 4
}
